{
 "cells": [
  {
   "cell_type": "code",
   "execution_count": 1,
   "metadata": {},
   "outputs": [],
   "source": [
    "import tensorflow as tf\n",
    "from flask import Flask, render_template, request,url_for,redirect  \n",
    "from werkzeug.utils import secure_filename\n",
    "from tensorflow.keras.models import Sequential,load_model\n",
    "from tensorflow.keras.preprocessing.image import ImageDataGenerator, array_to_img, img_to_array, load_img\n",
    "from skimage.color import rgb2lab, lab2rgb, rgb2gray, xyz2lab\n",
    "from skimage.io import imsave\n",
    "import numpy as np\n",
    "import os\n",
    "import random\n",
    "from tensorflow.keras.layers import Conv2D, UpSampling2D, InputLayer, Conv2DTranspose\n",
    "from tensorflow.keras.layers import Activation, Dense, Dropout, Flatten\n",
    "\n"
   ]
  },
  {
   "cell_type": "code",
   "execution_count": null,
   "metadata": {},
   "outputs": [
    {
     "name": "stdout",
     "output_type": "stream",
     "text": [
      " * Serving Flask app \"__main__\" (lazy loading)\n",
      " * Environment: production\n",
      "   WARNING: This is a development server. Do not use it in a production deployment.\n",
      "   Use a production WSGI server instead.\n",
      " * Debug mode: off\n"
     ]
    },
    {
     "name": "stderr",
     "output_type": "stream",
     "text": [
      " * Running on http://127.0.0.1:5000/ (Press CTRL+C to quit)\n",
      "127.0.0.1 - - [30/May/2020 10:44:55] \"\u001b[37mGET / HTTP/1.1\u001b[0m\" 200 -\n"
     ]
    },
    {
     "name": "stdout",
     "output_type": "stream",
     "text": [
      "woman.jpg\n",
      "Train on 1 samples\n",
      "1/1 [==============================] - 0s 263ms/sample - loss: 0.0024\n",
      "0.0023942585103213787\n"
     ]
    },
    {
     "name": "stderr",
     "output_type": "stream",
     "text": [
      "Lossy conversion from float64 to uint8. Range [0, 1]. Convert image to uint8 prior to saving to suppress this warning.\n",
      "Lossy conversion from float64 to uint8. Range [0, 1]. Convert image to uint8 prior to saving to suppress this warning.\n",
      "127.0.0.1 - - [30/May/2020 10:45:05] \"\u001b[37mPOST /uploader HTTP/1.1\u001b[0m\" 200 -\n",
      "127.0.0.1 - - [30/May/2020 10:45:05] \"\u001b[32mGET /static//img_result1590815704.9075725.png HTTP/1.1\u001b[0m\" 308 -\n",
      "127.0.0.1 - - [30/May/2020 10:45:05] \"\u001b[37mGET /static/img_result1590815704.9075725.png HTTP/1.1\u001b[0m\" 200 -\n"
     ]
    }
   ],
   "source": [
    "import time\n",
    "app = Flask(__name__)\n",
    "\n",
    "@app.route('/')\n",
    "def main():\n",
    "    return render_template('index.html')\n",
    "\n",
    "@app.route('/uploader', methods = ['GET', 'POST'])\n",
    "def upload_file():\n",
    "    f = request.files['pic']\n",
    "    print(f.filename)\n",
    "    f.save(secure_filename(f.filename))\n",
    "    model = Sequential()\n",
    "    model.add(InputLayer(input_shape=(None, None, 1)))\n",
    "    model.add(Conv2D(8, (3, 3), activation='relu', padding='same', strides=2))\n",
    "    model.add(Conv2D(8, (3, 3), activation='relu', padding='same'))\n",
    "    model.add(Conv2D(16, (3, 3), activation='relu', padding='same'))\n",
    "    model.add(Conv2D(16, (3, 3), activation='relu', padding='same', strides=2))\n",
    "    model.add(Conv2D(32, (3, 3), activation='relu', padding='same'))\n",
    "    model.add(Conv2D(32, (3, 3), activation='relu', padding='same', strides=2))\n",
    "    model.add(UpSampling2D((2, 2)))\n",
    "    model.add(Conv2D(32, (3, 3), activation='relu', padding='same'))\n",
    "    model.add(UpSampling2D((2, 2)))\n",
    "    model.add(Conv2D(16, (3, 3), activation='relu', padding='same'))\n",
    "    model.add(UpSampling2D((2, 2)))\n",
    "    model.add(Conv2D(2, (3, 3), activation='tanh', padding='same'))\n",
    "    model.compile(optimizer='rmsprop',loss='mse')\n",
    "    \n",
    "    #model = load_model('Grey2colormodel.h5')\n",
    "    \n",
    "    path = secure_filename(f.filename)\n",
    "    image = img_to_array(load_img(path, target_size=(400, 400)))\n",
    "    image = np.array(image, dtype=float)\n",
    "    X = rgb2lab(1.0/255*image)[:,:,0]\n",
    "    Y = rgb2lab(1.0/255*image)[:,:,1:]\n",
    "    Y /= 128\n",
    "    X = X.reshape(1, 400, 400, 1)\n",
    "    Y = Y.reshape(1, 400, 400, 2)\n",
    "    model.fit(x=X, y=Y,batch_size=1,epochs=0)\n",
    "    model.load_weights('Grey2colormodel.h5')\n",
    "    print(model.evaluate(X, Y, batch_size=1))\n",
    "    output = model.predict(X)\n",
    "    output *= 128\n",
    "    # Output colorizations\n",
    "    cur = np.zeros((400, 400, 3))\n",
    "    cur[:,:,0] = X[0][:,:,0]\n",
    "    cur[:,:,1:] = output[0]\n",
    "    base=\"static//\"\n",
    "    out_result_path=\"img_result\"+str(time.time())+\".png\"\n",
    "    out_grey_path=\"img_gray_version\"+str(time.time())+\".png\"\n",
    "    imsave(base+out_result_path, lab2rgb(cur))\n",
    "    imsave(base+out_grey_path, rgb2gray(lab2rgb(cur)))\n",
    "    return render_template('output.html',p1=base+out_grey_path,p2=base+out_result_path)\n",
    "    \n",
    "if __name__ == '__main__':\n",
    "    app.run()"
   ]
  },
  {
   "cell_type": "code",
   "execution_count": 11,
   "metadata": {},
   "outputs": [
    {
     "name": "stdout",
     "output_type": "stream",
     "text": [
      "/c/Users/DELL/Untitled Folder\n"
     ]
    }
   ],
   "source": [
    "!pwd"
   ]
  }
 ],
 "metadata": {
  "kernelspec": {
   "display_name": "Python 3",
   "language": "python",
   "name": "python3"
  },
  "language_info": {
   "codemirror_mode": {
    "name": "ipython",
    "version": 3
   },
   "file_extension": ".py",
   "mimetype": "text/x-python",
   "name": "python",
   "nbconvert_exporter": "python",
   "pygments_lexer": "ipython3",
   "version": "3.7.6"
  }
 },
 "nbformat": 4,
 "nbformat_minor": 4
}
